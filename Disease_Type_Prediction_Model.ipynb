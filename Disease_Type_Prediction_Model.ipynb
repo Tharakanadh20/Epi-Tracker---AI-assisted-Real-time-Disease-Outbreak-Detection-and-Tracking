{
 "cells": [
  {
   "cell_type": "markdown",
   "id": "82188f35",
   "metadata": {},
   "source": [
    "\n",
    "# Disease Type Prediction Using Classification\n",
    "\n",
    "This notebook outlines the process of predicting disease types using classification algorithms based on various indicators such as time, region, number of cases, population type, and indicator specifics.\n"
   ]
  },
  {
   "cell_type": "code",
   "execution_count": null,
   "id": "b2c6607a",
   "metadata": {},
   "outputs": [],
   "source": [
    "\n",
    "import pandas as pd\n",
    "import matplotlib.pyplot as plt\n",
    "from sklearn.model_selection import train_test_split\n",
    "from sklearn.ensemble import RandomForestClassifier\n",
    "from sklearn.metrics import classification_report, accuracy_score\n",
    "\n",
    "# Assuming the data is pre-loaded and cleaned as explained in the previous setup\n",
    "# Here is how you would set up the model with data assumed to be loaded into `data` variable\n",
    "\n",
    "# Prepare the data\n",
    "y_class = data['HealthTopic']\n",
    "X_class = pd.get_dummies(data[['Time', 'RegionCode', 'NumValue', 'Population', 'Indicator']], drop_first=True)\n",
    "\n",
    "# Split the data\n",
    "X_train, X_test, y_train, y_test = train_test_split(X_class, y_class, test_size=0.2, random_state=42)\n",
    "\n",
    "# Initialize the classifier\n",
    "classifier = RandomForestClassifier(n_estimators=100, random_state=42)\n",
    "classifier.fit(X_train, y_train)\n",
    "\n",
    "# Predict\n",
    "y_pred = classifier.predict(X_test)\n",
    "\n",
    "# Evaluate the model\n",
    "accuracy = accuracy_score(y_test, y_pred)\n",
    "report = classification_report(y_test, y_pred)\n",
    "\n",
    "# Print the accuracy and the classification report\n",
    "print(\"Accuracy:\", accuracy)\n",
    "print(\"Classification Report:\\n\", report)\n"
   ]
  }
 ],
 "metadata": {},
 "nbformat": 4,
 "nbformat_minor": 5
}
